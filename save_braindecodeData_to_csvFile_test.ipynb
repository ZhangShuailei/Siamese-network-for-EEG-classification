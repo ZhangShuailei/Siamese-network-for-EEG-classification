{
 "cells": [
  {
   "cell_type": "code",
   "execution_count": 1,
   "metadata": {},
   "outputs": [
    {
     "name": "stderr",
     "output_type": "stream",
     "text": [
      "/home/user/zhangshuailei/anaconda3/lib/python3.6/site-packages/h5py/__init__.py:36: FutureWarning: Conversion of the second argument of issubdtype from `float` to `np.floating` is deprecated. In future, it will be treated as `np.float64 == np.dtype(float).type`.\n",
      "  from ._conv import register_converters as _register_converters\n"
     ]
    }
   ],
   "source": [
    "import mne\n",
    "import os\n",
    "import numpy as np\n",
    "import pandas as pd\n",
    "from braindecode.datasets.bbci import  BBCIDataset\n",
    "import pdb\n",
    "from matplotlib import pyplot as plt"
   ]
  },
  {
   "cell_type": "code",
   "execution_count": 2,
   "metadata": {},
   "outputs": [],
   "source": [
    "os.environ[\"CUDA_VISIBLE_DEVICES\"]= '0'"
   ]
  },
  {
   "cell_type": "code",
   "execution_count": 5,
   "metadata": {},
   "outputs": [
    {
     "name": "stdout",
     "output_type": "stream",
     "text": [
      "Creating RawArray with float64 data, n_channels=128, n_times=3345425\n",
      "    Range : 0 ... 3345424 =      0.000 ...  6690.848 secs\n",
      "Ready.\n",
      "Creating RawArray with float64 data, n_channels=128, n_times=608505\n",
      "    Range : 0 ... 608504 =      0.000 ...  1217.008 secs\n",
      "Ready.\n"
     ]
    }
   ],
   "source": [
    "channel_name = ['Fp1', 'Fp2', 'Fpz', 'F7', 'F3', 'Fz', 'F4', 'F8', 'FC5', 'FC1', 'FC2',\n",
    "                'FC6', 'M1', 'T7', 'C3', 'Cz', 'C4', 'T8', 'M2', 'CP5', 'CP1', 'CP2',\n",
    "                'CP6', 'P7', 'P3', 'Pz', 'P4', 'P8', 'POz', 'O1', 'Oz', 'O2', 'AF7',\n",
    "                'AF3', 'AF4', 'AF8', 'F5', 'F1', 'F2', 'F6', 'FC3', 'FCz', 'FC4', 'C5',\n",
    "                'C1', 'C2', 'C6', 'CP3', 'CPz', 'CP4', 'P5', 'P1', 'P2', 'P6', 'PO5',\n",
    "                'PO3', 'PO4', 'PO6', 'FT7', 'FT8', 'TP7', 'TP8', 'PO7', 'PO8', 'FT9',\n",
    "                'FT10', 'TPP9h', 'TPP10h', 'PO9', 'PO10', 'P9', 'P10', 'AFF1', 'AFz',\n",
    "                'AFF2', 'FFC5h', 'FFC3h', 'FFC4h', 'FFC6h', 'FCC5h', 'FCC3h', 'FCC4h',\n",
    "                'FCC6h', 'CCP5h', 'CCP3h', 'CCP4h', 'CCP6h', 'CPP5h', 'CPP3h', 'CPP4h',\n",
    "                'CPP6h', 'PPO1', 'PPO2', 'I1', 'Iz', 'I2', 'AFp3h', 'AFp4h', 'AFF5h',\n",
    "                'AFF6h', 'FFT7h', 'FFC1h', 'FFC2h', 'FFT8h', 'FTT9h', 'FTT7h', 'FCC1h',\n",
    "                'FCC2h', 'FTT8h', 'FTT10h', 'TTP7h', 'CCP1h', 'CCP2h', 'TTP8h', 'TPP7h',\n",
    "                'CPP1h', 'CPP2h', 'TPP8h', 'PPO9h', 'PPO5h', 'PPO6h', 'PPO10h', 'POO9h',\n",
    "                'POO3h', 'POO4h', 'POO10h', 'OI1h', 'OI2h', 'STI 014']#'STI 014'这个通道里面放的是事件标签\n",
    "people = 14\n",
    "\n",
    "data_path = '/home/user/zhangshuailei/data/braindecode/train'+'/'+ str(people)+'.mat'#训练集的数据进行split\n",
    "loader = BBCIDataset(data_path)\n",
    "raw = loader.load()\n",
    "csvPath = r'/home/user/zhangshuailei/data/braindecode/csvFile'\n",
    "event = raw.info['events']\n",
    "folder = str(people)\n",
    "csvFolderPath = csvPath + r'/' + folder # 单次实验数据保存的文件夹\n",
    "folderExist = os.path.exists(csvFolderPath)\n",
    "if not folderExist:\n",
    "    os.makedirs(csvFolderPath) # 创建文件夹\n",
    "for k in range(event.shape[0]): # 每个样本降采样后保存成.csv文件\n",
    "    data = {}\n",
    "    for i in range(129):\n",
    "        data[channel_name[i]] = raw._data[i, event[k,0]-500:event[k,0]+2500:2].tolist() #3000个点降采样到1500点，采样率降为250Hz，采样率500Hz的\n",
    "        #话，每个event4s，2000个点，由于之后滤波的话是以每个event为单位进行500阶滤波的，所以前后都有500个点的余量，滤波之后引入的随机量会把\n",
    "        #后面500挤出去，相当于前面是1000个无用点，到时候截掉就行\n",
    "    data = pd.DataFrame(data)\n",
    "    data.to_csv(csvFolderPath + r'/' + str(k+1) + '.csv')\n",
    "\n",
    "    \n",
    "data_path = '/home/user/zhangshuailei/data/braindecode/test'+'/'+ str(people)+'.mat'#测试集的数据进行split\n",
    "loader = BBCIDataset(data_path)\n",
    "raw = loader.load()\n",
    "csvPath = r'/home/user/zhangshuailei/data/braindecode/csvFile'\n",
    "event = raw.info['events']\n",
    "folder = str(people)\n",
    "csvFolderPath = csvPath + r'/' + folder # 单次实验数据保存的文件夹\n",
    "folderExist = os.path.exists(csvFolderPath)\n",
    "if not folderExist:\n",
    "    os.makedirs(csvFolderPath) # 创建文件夹\n",
    "for j in range(event.shape[0]): # 每个样本降采样后保存成.csv文件\n",
    "    data = {}\n",
    "    for i in range(129):\n",
    "        data[channel_name[i]] = raw._data[i, event[j,0]-500:event[j,0]+2500:2].tolist() \n",
    "    data = pd.DataFrame(data)\n",
    "    data.to_csv(csvFolderPath + r'/' + str(k+j+2) + '.csv')#接着训练集的进行存储，把原来别人的程序给好的训练和测试集重新混合，然后自己再分训练集和测试集\n",
    "    #k是上次运行完的，保存着最大值，所以可以接着存"
   ]
  },
  {
   "cell_type": "code",
   "execution_count": null,
   "metadata": {},
   "outputs": [],
   "source": []
  }
 ],
 "metadata": {
  "kernelspec": {
   "display_name": "Python 3",
   "language": "python",
   "name": "python3"
  },
  "language_info": {
   "codemirror_mode": {
    "name": "ipython",
    "version": 3
   },
   "file_extension": ".py",
   "mimetype": "text/x-python",
   "name": "python",
   "nbconvert_exporter": "python",
   "pygments_lexer": "ipython3",
   "version": "3.6.5"
  }
 },
 "nbformat": 4,
 "nbformat_minor": 2
}
